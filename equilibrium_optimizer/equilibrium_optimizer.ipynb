{
 "cells": [
  {
   "cell_type": "code",
   "execution_count": 1,
   "metadata": {},
   "outputs": [],
   "source": [
    "import numpy as np\n",
    "from IPython.display import clear_output"
   ]
  },
  {
   "cell_type": "code",
   "execution_count": 2,
   "metadata": {},
   "outputs": [],
   "source": [
    "class Particle(object):\n",
    "    def __init__(self, vector):\n",
    "        self.vector = vector\n",
    "        self.score  = None\n",
    "        \n",
    "    def real2int(self): # for discrete problems only\n",
    "        return np.apply_along_axis(np.round, axis=0, arr=self.vector)\n",
    "    \n",
    "    def __str__(self):\n",
    "        return f'Vector:{self.vector} & Score:{self.score}'"
   ]
  },
  {
   "cell_type": "code",
   "execution_count": 3,
   "metadata": {},
   "outputs": [],
   "source": [
    "class EO(object):\n",
    "    def __init__(self, problem, popSize, maxIter, parameters, searchSpace = 'discrete'):\n",
    "        \n",
    "        self.params = parameters\n",
    "        \n",
    "        self.initializer   = problem.initializer\n",
    "        self.objectiveFunc = problem.objectiveFunc\n",
    "        self.vecBound      = problem.vecBound\n",
    "        \n",
    "        self.popSize = popSize\n",
    "        self.maxIter = maxIter\n",
    "        self.searchSpace = searchSpace\n",
    "        \n",
    "        self.dim = None\n",
    "        self.C = []\n",
    "        self.Ceq = []\n",
    "        \n",
    "    def run(self):\n",
    "        self.initialize()\n",
    "        for i in range(self.maxIter):\n",
    "            print(f'-----------starting iteration {i+1}-----------')\n",
    "            clear_output(wait = True)\n",
    "            \n",
    "            self.getScore()\n",
    "            self.updateCeq()\n",
    "            self.eoEvolve(i+1)\n",
    "        \n",
    "    def initialize(self):\n",
    "        print(f'-----------initializing Population-----------')\n",
    "        self.C = [Particle(self.initializer()) for each in range(self.popSize)]\n",
    "        self.dim = len(self.C[0].vector)\n",
    "    \n",
    "    def getScore(self):\n",
    "        for each in self.C:\n",
    "            self.objectiveFunc(each)\n",
    "            \n",
    "    def updateCeq(self):\n",
    "        dummy = Particle([]); dummy.score = float('-inf')\n",
    "        \n",
    "        cs   = sorted(self.C,   key = lambda x:x.score, reverse=True); cs.append(dummy)\n",
    "        ceqs = sorted(self.Ceq, key = lambda x:x.score, reverse=True); ceqs.append(dummy)\n",
    "        \n",
    "        from copy import copy\n",
    "        Ceq, i, j = [], 0, 0\n",
    "        for each in range(self.params['Neq']-1):\n",
    "            if cs[i].score > ceqs[j].score:\n",
    "                Ceq.append(copy(cs[i]))\n",
    "                i+=1\n",
    "            else:\n",
    "                Ceq.append(copy(ceqs[j]))\n",
    "                j+=1\n",
    "        \n",
    "        Ceqavg = Particle(np.average([each.vector for each in Ceq], axis=0))\n",
    "        self.objectiveFunc(Ceqavg)\n",
    "        Ceq.append(Ceqavg)\n",
    "        \n",
    "        if self.searchSpace == 'discrete':\n",
    "            for i, each in enumerate(Ceq):\n",
    "                Ceq[i].vector = each.real2int()\n",
    "            \n",
    "        self.Ceq = Ceq\n",
    "        \n",
    "    def eoEvolve(self, itr):\n",
    "        a1  = self.params['a1']\n",
    "        a2  = self.params['a2']\n",
    "        GP  = self.params['GP']\n",
    "        Neq = self.params['Neq']\n",
    "        dim = self.dim\n",
    "        maxIter = self.maxIter\n",
    "        vecBound = self.vecBound\n",
    "        \n",
    "        r  = np.random.rand(dim)\n",
    "        r1 = np.random.rand()\n",
    "        r2 = np.random.rand()\n",
    "        lamda = np.random.rand(dim)\n",
    "        \n",
    "        t = (1 - itr/maxIter)**(a2 * itr/maxIter)\n",
    "        F = a1 * np.sign(r - 0.5) * (np.exp(-lamda*t) - 1)\n",
    "\n",
    "        if r2 >= GP:\n",
    "            GCP = 0.5*r1\n",
    "        else:\n",
    "            GCP = 0\n",
    "\n",
    "        GCP = np.ones(dim)*GCP\n",
    "        j = np.random.randint(0, Neq)\n",
    "        \n",
    "        for each_C in self.C:\n",
    "            C = each_C.vector\n",
    "            Ceq = np.random.choice(self.Ceq).vector\n",
    "            \n",
    "            G0 = GCP * Ceq - lamda*C\n",
    "            G = G0 * F\n",
    "            \n",
    "            newC = Ceq + (C-Ceq)*F + G*(1-F)/lamda\n",
    "            newC = np.array([min(max(i, j),k) for i, j, k in zip(vecBound[0], newC, vecBound[1])])\n",
    "            each_C.vector = newC"
   ]
  },
  {
   "cell_type": "markdown",
   "metadata": {},
   "source": [
    "## Examples"
   ]
  },
  {
   "cell_type": "code",
   "execution_count": 4,
   "metadata": {},
   "outputs": [],
   "source": [
    "class BoothFunc(object):\n",
    "    def __init__(self):\n",
    "        self.dim = 2\n",
    "        self.vecBound = (-10,10)\n",
    "        \n",
    "        if not isinstance(self.vecBound[0], list):\n",
    "            i, j = self.vecBound\n",
    "            self.vecBound = ([i for each in range(self.dim)], [j for each in range(self.dim)])\n",
    "        \n",
    "    def initializer(self):\n",
    "        return np.array([np.random.uniform(i,j) for i, j in zip(*self.vecBound)])\n",
    "\n",
    "    def objectiveFunc(self, particle):\n",
    "        x, y = particle.vector\n",
    "        particle.score = -((x+2*y-7)**2 + (2*x+y-5)**2)"
   ]
  },
  {
   "cell_type": "code",
   "execution_count": 5,
   "metadata": {},
   "outputs": [],
   "source": [
    "class McCormickFunc(object):\n",
    "    def __init__(self):\n",
    "        self.dim = 2\n",
    "        self.vecBound = ([-1.5, -3],[4, 4])\n",
    "        \n",
    "        if not isinstance(self.vecBound[0], list):\n",
    "            i, j = self.vecBound\n",
    "            self.vecBound = ([i for each in range(self.dim)], [j for each in range(self.dim)])\n",
    "        \n",
    "    def initializer(self):\n",
    "        return np.array([np.random.uniform(i,j) for i, j in zip(*self.vecBound)])\n",
    "\n",
    "    def objectiveFunc(self, particle):\n",
    "        x, y = particle.vector\n",
    "        particle.score = -( np.sin(x+y) + (x-y)**2 - 1.5*x + 2.5*y + 1 )"
   ]
  },
  {
   "cell_type": "code",
   "execution_count": 6,
   "metadata": {},
   "outputs": [],
   "source": [
    "parameters = {\n",
    "    'Neq': 5\n",
    "    ,'a1': 2.2\n",
    "    ,'a2': 1\n",
    "    ,'GP': 0.75\n",
    "}"
   ]
  },
  {
   "cell_type": "code",
   "execution_count": 7,
   "metadata": {},
   "outputs": [
    {
     "name": "stdout",
     "output_type": "stream",
     "text": [
      "Equilibrium particles at the end of iterations\n",
      "Vector:[1.35084658 2.61975819] & Score:-0.27113346820412754\n",
      "Vector:[1.35084658 2.61975817] & Score:-0.2711334926500537\n",
      "Vector:[1.35084658 2.61975817] & Score:-0.271133492762928\n",
      "Vector:[1.35084661 2.6197578 ] & Score:-0.2711338787760552\n",
      "Vector:[1.35084658 2.61975808] & Score:-0.2711335830981722\n"
     ]
    }
   ],
   "source": [
    "prob = BoothFunc() #https://en.wikipedia.org/wiki/Test_functions_for_optimization\n",
    "\n",
    "eo = EO(\n",
    "    problem = prob,\n",
    "    popSize=100,\n",
    "    maxIter=25,\n",
    "    parameters = parameters,\n",
    "    searchSpace = 'Real'\n",
    ")\n",
    "\n",
    "eo.run()\n",
    "\n",
    "print(\"Equilibrium particles at the end of iterations\")\n",
    "for each in eo.Ceq:\n",
    "    print(each)"
   ]
  },
  {
   "cell_type": "code",
   "execution_count": 8,
   "metadata": {},
   "outputs": [
    {
     "name": "stdout",
     "output_type": "stream",
     "text": [
      "Equilibrium particles at the end of iterations\n",
      "Vector:[-0.50627019 -1.58100684] & Score:1.9076154194088857\n",
      "Vector:[-0.50627016 -1.58100686] & Score:1.9076154103825647\n",
      "Vector:[-0.50626979 -1.58100697] & Score:1.9076153371465856\n",
      "Vector:[-0.50626941 -1.58100709] & Score:1.9076152627817224\n",
      "Vector:[-0.50626989 -1.58100694] & Score:1.9076153574301324\n"
     ]
    }
   ],
   "source": [
    "prob = McCormickFunc() #https://en.wikipedia.org/wiki/Test_functions_for_optimization\n",
    "\n",
    "eo = EO(\n",
    "    problem = prob,\n",
    "    popSize=100,\n",
    "    maxIter=25,\n",
    "    parameters = parameters,\n",
    "    searchSpace = 'Real'\n",
    ")\n",
    "\n",
    "eo.run()\n",
    "\n",
    "print(\"Equilibrium particles at the end of iterations\")\n",
    "for each in eo.Ceq:\n",
    "    print(each)"
   ]
  }
 ],
 "metadata": {
  "kernelspec": {
   "display_name": "Python 3",
   "language": "python",
   "name": "python3"
  },
  "language_info": {
   "codemirror_mode": {
    "name": "ipython",
    "version": 3
   },
   "file_extension": ".py",
   "mimetype": "text/x-python",
   "name": "python",
   "nbconvert_exporter": "python",
   "pygments_lexer": "ipython3",
   "version": "3.7.4"
  }
 },
 "nbformat": 4,
 "nbformat_minor": 2
}
